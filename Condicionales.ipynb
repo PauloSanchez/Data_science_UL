{
  "nbformat": 4,
  "nbformat_minor": 0,
  "metadata": {
    "colab": {
      "name": "Condicionales.ipynb",
      "provenance": [],
      "collapsed_sections": [],
      "authorship_tag": "ABX9TyM4SW5H4O0GgJKg7cpdhI/w",
      "include_colab_link": true
    },
    "kernelspec": {
      "name": "python3",
      "display_name": "Python 3"
    },
    "language_info": {
      "name": "python"
    }
  },
  "cells": [
    {
      "cell_type": "markdown",
      "metadata": {
        "id": "view-in-github",
        "colab_type": "text"
      },
      "source": [
        "<a href=\"https://colab.research.google.com/github/PauloSanchez/Data_science_UL/blob/main/Condicionales.ipynb\" target=\"_parent\"><img src=\"https://colab.research.google.com/assets/colab-badge.svg\" alt=\"Open In Colab\"/></a>"
      ]
    },
    {
      "cell_type": "markdown",
      "source": [
        "#Condicionales"
      ],
      "metadata": {
        "id": "Znk4p60Jl0zF"
      }
    },
    {
      "cell_type": "code",
      "source": [
        "x=4\n",
        "y=6\n",
        "z=4\n",
        "if (x==y or y!=x):\n",
        "  print(\"verdadero son iguales\")\n",
        "elif (x>y):\n",
        "  print(\"X es mayor que Y\")\n",
        "elif (x<y):\n",
        "  print(\"X es menor que Y\")\n",
        "else:\n",
        "  print(\"falso no son iguales\")"
      ],
      "metadata": {
        "colab": {
          "base_uri": "https://localhost:8080/"
        },
        "id": "TAg5Mz9Ylyou",
        "outputId": "bec07ac3-598c-4be2-8ca4-2e930436eefc"
      },
      "execution_count": null,
      "outputs": [
        {
          "output_type": "stream",
          "name": "stdout",
          "text": [
            "verdadero son iguales\n"
          ]
        }
      ]
    },
    {
      "cell_type": "code",
      "source": [
        "for i in range(0,10,2):\n",
        "  print(i)"
      ],
      "metadata": {
        "colab": {
          "base_uri": "https://localhost:8080/"
        },
        "id": "irNlOG6Io8dI",
        "outputId": "f92b64ec-f75d-4853-897a-bb02ce6b965d"
      },
      "execution_count": null,
      "outputs": [
        {
          "output_type": "stream",
          "name": "stdout",
          "text": [
            "0\n",
            "2\n",
            "4\n",
            "6\n",
            "8\n"
          ]
        }
      ]
    },
    {
      "cell_type": "code",
      "source": [
        "for i in range(0,10,1):\n",
        "  if(i==7):\n",
        "    print(\"mi numero favorito)\")\n",
        "    break\n",
        "print(i)"
      ],
      "metadata": {
        "colab": {
          "base_uri": "https://localhost:8080/"
        },
        "id": "F9AQy7SNpfXo",
        "outputId": "6c255f43-74ca-457f-db5d-592a0ac7e5ad"
      },
      "execution_count": null,
      "outputs": [
        {
          "output_type": "stream",
          "name": "stdout",
          "text": [
            "mi numero favorito)\n",
            "7\n"
          ]
        }
      ]
    },
    {
      "cell_type": "code",
      "source": [
        "for i in range(0, 30,3):\n",
        "  print(i) "
      ],
      "metadata": {
        "colab": {
          "base_uri": "https://localhost:8080/"
        },
        "id": "MTOsiYi1qkVc",
        "outputId": "49523e84-7ac3-4e7f-c7fe-95f57e6e4f3b"
      },
      "execution_count": null,
      "outputs": [
        {
          "output_type": "stream",
          "name": "stdout",
          "text": [
            "0\n",
            "3\n",
            "6\n",
            "9\n",
            "12\n",
            "15\n",
            "18\n",
            "21\n",
            "24\n",
            "27\n"
          ]
        }
      ]
    },
    {
      "cell_type": "code",
      "source": [
        "mensaje=\"Hola Mundo\"\n",
        "for i in mensaje:\n",
        "  print(i)"
      ],
      "metadata": {
        "colab": {
          "base_uri": "https://localhost:8080/"
        },
        "id": "wscc-hv0rDt_",
        "outputId": "f537b89b-fb66-485e-ed94-02e7da877309"
      },
      "execution_count": null,
      "outputs": [
        {
          "output_type": "stream",
          "name": "stdout",
          "text": [
            "H\n",
            "o\n",
            "l\n",
            "a\n",
            " \n",
            "M\n",
            "u\n",
            "n\n",
            "d\n",
            "o\n"
          ]
        }
      ]
    },
    {
      "cell_type": "code",
      "source": [
        "#cuetna de caracteres\n",
        "len(mensaje)"
      ],
      "metadata": {
        "colab": {
          "base_uri": "https://localhost:8080/"
        },
        "id": "vK5cVsAkrOX-",
        "outputId": "51460ad6-e96f-4bfc-eea0-7cf9f2e527bd"
      },
      "execution_count": null,
      "outputs": [
        {
          "output_type": "execute_result",
          "data": {
            "text/plain": [
              "10"
            ]
          },
          "metadata": {},
          "execution_count": 29
        }
      ]
    },
    {
      "cell_type": "code",
      "source": [
        "#ejercicio 1\n",
        "x=int(input(\"Introduce numero enetro positivo\"))\n",
        "y=1\n",
        "z=2\n",
        "if(x>0):\n",
        "  x=x+y\n",
        "  x=x*x\n",
        "  n=x/z\n",
        "  print(n)\n",
        "elif(x<=0):\n",
        "  print(\"No es un numero entero positivo\")\n",
        "\n",
        "\n"
      ],
      "metadata": {
        "colab": {
          "base_uri": "https://localhost:8080/"
        },
        "id": "uYpHkkOwrk21",
        "outputId": "a3293652-46d1-4f74-cbb6-a5f5c4f5a895"
      },
      "execution_count": null,
      "outputs": [
        {
          "output_type": "stream",
          "name": "stdout",
          "text": [
            "Introduce numero enetro positivo5\n",
            "18.0\n"
          ]
        }
      ]
    },
    {
      "cell_type": "code",
      "source": [
        "#Ejercicio 2\n",
        "\n",
        "nombre=input(\"Ingrese nombre completo\")\n",
        "\n",
        "for i in range(0, 3):\n",
        "  print(nombre.title())"
      ],
      "metadata": {
        "colab": {
          "base_uri": "https://localhost:8080/"
        },
        "id": "dGuf2bXzt1OR",
        "outputId": "280d5808-9a25-4725-fb89-8a3598b7ef58"
      },
      "execution_count": null,
      "outputs": [
        {
          "output_type": "stream",
          "name": "stdout",
          "text": [
            "Ingrese nombre completoPAULO MELLA SANCHEZ\n",
            "Paulo Mella Sanchez\n",
            "Paulo Mella Sanchez\n",
            "Paulo Mella Sanchez\n"
          ]
        }
      ]
    },
    {
      "cell_type": "code",
      "source": [
        "#jercicio 2 segunda parte\n",
        "\n",
        "for i in range(1):\n",
        "  print(nombre.upper())\n",
        "  print(nombre.lower())\n",
        "  print(nombre.title())\n",
        "\n"
      ],
      "metadata": {
        "colab": {
          "base_uri": "https://localhost:8080/"
        },
        "id": "YzBWhURJvzCe",
        "outputId": "d70094d9-8a5a-444b-ddfb-91fdb974599a"
      },
      "execution_count": null,
      "outputs": [
        {
          "output_type": "stream",
          "name": "stdout",
          "text": [
            "PAULO MELLA SANCHEZ\n",
            "paulo mella sanchez\n",
            "Paulo Mella Sanchez\n"
          ]
        }
      ]
    },
    {
      "cell_type": "code",
      "source": [
        "#resolución ejercicio 2\n",
        "for i in range(3):\n",
        "    if (i==0):\n",
        "        print(nombre.lower())\n",
        "    elif (i==1):\n",
        "        print(nombre.upper())\n",
        "    else:\n",
        "        print(nombre.title())\n"
      ],
      "metadata": {
        "id": "-q6MHDOVxRPZ"
      },
      "execution_count": null,
      "outputs": []
    },
    {
      "cell_type": "markdown",
      "source": [
        "La pizzería Bella Napoli ofrece pizzas vegetarianas y no vegetarianas a sus clientes. Los ingredientes para cada tipo de pizza aparecen a continuación.\n",
        "Ingredientes vegetarianos: Pimiento y tofu.\n",
        "Ingredientes no vegetarianos: Peperoni, Jamón y Salmón.\n",
        "Escribir un programa que pregunte al usuario si quiere una pizza vegetariana o no, y en función de su respuesta le muestre un menú con los ingredientes disponibles para que elija. Solo se puede eligir un ingrediente además de la mozzarella y el tomate que están en todas la pizzas. Al final se debe mostrar por pantalla si la pizza elegida es vegetariana o no y todos los ingredientes que lleva.\n"
      ],
      "metadata": {
        "id": "R8B1hWrgyEPn"
      }
    },
    {
      "cell_type": "code",
      "source": [
        "x=input(\"¿Desea una pizza Tradicional o Vegetariana?\")\n",
        "x=x.title()\n",
        "if (x==\"Tradicional\"):\n",
        "  y=input(\"seleccione un ingrediente (Peperoni, Jamón o Salmón\")\n",
        "  y=y.title()\n",
        "  print(\"Usted ha ordenado una pizza Tradicional con base de mozzarella y tomate más\", y)\n",
        "elif (x==\"Vegetariana\"):\n",
        "  z=input(\"seleccione un ingrediente (Pimiento o Tofú\")\n",
        "  print(\"Usted ha ordenado una pizza Vegetariana con base de mozzarella y tomate más\", z)\n",
        "else:\n",
        "  print(\"No sabemos que quiere\")"
      ],
      "metadata": {
        "colab": {
          "base_uri": "https://localhost:8080/"
        },
        "id": "_Ku4EeUUyF8e",
        "outputId": "87311d67-8208-4305-da8c-b6026024f33b"
      },
      "execution_count": null,
      "outputs": [
        {
          "output_type": "stream",
          "name": "stdout",
          "text": [
            "¿Desea una pizza Tradicional o Vegetariana?Vegetariana\n",
            "seleccione un ingrediente (Pimiento o TofúTofú\n",
            "Usted ha ordenado una pizza Vegetariana con base de mozzarella y tomate más Tofú\n"
          ]
        }
      ]
    },
    {
      "cell_type": "code",
      "source": [
        "#Codigo de Paula Lillo\n",
        "\n",
        "pizza_vegetariana=[\"tofu\",\"pimiento\"]\n",
        "pizza_noveggie=[\"peperoni\",\"jamón\",\"salmón\"]\n",
        "print(\"Bienvenido a Pizzeria Unilever Dojo\")\n",
        "tipo_pizza=input(\"Quiere su pizza vegetariana? (Si/No)\").title()\n",
        "while tipo_pizza!=\"Si\" and tipo_pizza!=\"No\":\n",
        "    tipo_pizza=input(\"Input no válido.Favor ingrese Si para vegetariana, No para no vegetariana\").title()\n",
        "if tipo_pizza==\"Si\":\n",
        "    print(\"Ingredientes disponibles:\")\n",
        "    for i in pizza_vegetariana:\n",
        "        print(i.title())\n",
        "    ingrediente2=input(\"Ingrese Ingrediente que quiere añadir:\").lower()\n",
        "    while (ingrediente2) not in pizza_vegetariana:\n",
        "        ingrediente2=input(\"Ingrediente no valido, favor ingrese de nuevo:\").lower()\n",
        "    print(\"Usted ha seleccionado una pizza vegetariana con los siguientes ingredientes:\",ingrediente2.title(),\",Mozarella,Tomate\")\n",
        "else:\n",
        "    print(\"Ingredientes disponibles:\")\n",
        "    for i in pizza_noveggie:\n",
        "        print(i.title())\n",
        "    ingrediente2=input(\"Ingrese Ingrediente que quiere añadir:\").lower()\n",
        "    while ingrediente2 not in pizza_noveggie:\n",
        "      ingrediente2=input(\"Ingrediente no valido, favor ingrese de nuevo:\").lower()\n",
        "    print(\"Usted ha seleccionado una pizza no vegetariana con los siguientes ingredientes:\",ingrediente2.title(),\",Mozarella,Tomate\")\n"
      ],
      "metadata": {
        "id": "w9BF0i9A348y",
        "outputId": "e1ce81a1-7497-4a74-a6aa-2f5a2d1a3f21",
        "colab": {
          "base_uri": "https://localhost:8080/",
          "height": 189
        }
      },
      "execution_count": null,
      "outputs": [
        {
          "output_type": "error",
          "ename": "NameError",
          "evalue": "ignored",
          "traceback": [
            "\u001b[0;31m---------------------------------------------------------------------------\u001b[0m",
            "\u001b[0;31mNameError\u001b[0m                                 Traceback (most recent call last)",
            "\u001b[0;32m<ipython-input-2-17f6193e98ee>\u001b[0m in \u001b[0;36m<module>\u001b[0;34m()\u001b[0m\n\u001b[0;32m----> 1\u001b[0;31m \u001b[0;32mfor\u001b[0m \u001b[0mi\u001b[0m \u001b[0;32min\u001b[0m \u001b[0mpizza_vegetariana\u001b[0m\u001b[0;34m:\u001b[0m\u001b[0;34m\u001b[0m\u001b[0;34m\u001b[0m\u001b[0m\n\u001b[0m\u001b[1;32m      2\u001b[0m        \u001b[0mprint\u001b[0m\u001b[0;34m(\u001b[0m\u001b[0mi\u001b[0m\u001b[0;34m.\u001b[0m\u001b[0mtitle\u001b[0m\u001b[0;34m(\u001b[0m\u001b[0;34m)\u001b[0m\u001b[0;34m)\u001b[0m\u001b[0;34m\u001b[0m\u001b[0;34m\u001b[0m\u001b[0m\n",
            "\u001b[0;31mNameError\u001b[0m: name 'pizza_vegetariana' is not defined"
          ]
        }
      ]
    }
  ]
}