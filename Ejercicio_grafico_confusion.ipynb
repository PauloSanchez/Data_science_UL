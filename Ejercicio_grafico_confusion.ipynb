{
  "nbformat": 4,
  "nbformat_minor": 0,
  "metadata": {
    "colab": {
      "name": "Ejercicio_grafico_confusion.ipynb",
      "provenance": [],
      "authorship_tag": "ABX9TyO2q97Fn4GgyPyvZECRYgHj",
      "include_colab_link": true
    },
    "kernelspec": {
      "name": "python3",
      "display_name": "Python 3"
    },
    "language_info": {
      "name": "python"
    }
  },
  "cells": [
    {
      "cell_type": "markdown",
      "metadata": {
        "id": "view-in-github",
        "colab_type": "text"
      },
      "source": [
        "<a href=\"https://colab.research.google.com/github/PauloSanchez/Data_science_UL/blob/main/Ejercicio_grafico_confusion.ipynb\" target=\"_parent\"><img src=\"https://colab.research.google.com/assets/colab-badge.svg\" alt=\"Open In Colab\"/></a>"
      ]
    },
    {
      "cell_type": "code",
      "execution_count": 6,
      "metadata": {
        "id": "qrBTxjc4UXCA"
      },
      "outputs": [],
      "source": [
        "#Importar librerías\n",
        "import numpy as np\n",
        "import seaborn as sns\n",
        "import matplotlib.pyplot as plt"
      ]
    },
    {
      "cell_type": "code",
      "source": [
        "tn=87\n",
        "fn=17\n",
        "fp=16\n",
        "tp=59\n",
        "\n",
        "#Crea la matriz de confusión en la forma que debe ser.\n",
        "c=np.array([[tn,fp],[fn,tp]])\n",
        "\n",
        "#grafica la matriz de confusión.\n",
        "plt.title('Confusion Metrics', fontsize=15)\n",
        "sns.heatmap(c, annot=True, cmap='Blues')\n",
        "plt.xlabel('Predicted Label')\n",
        "plt.ylabel('True Label')\n",
        "plt.show()\n",
        "\n",
        "\n"
      ],
      "metadata": {
        "colab": {
          "base_uri": "https://localhost:8080/",
          "height": 297
        },
        "id": "BdYXpLN_VYaz",
        "outputId": "0b4a81c9-af9c-42c1-8f2d-f6eebe912b28"
      },
      "execution_count": 30,
      "outputs": [
        {
          "output_type": "display_data",
          "data": {
            "text/plain": [
              "<Figure size 432x288 with 2 Axes>"
            ],
            "image/png": "[encoded data removed]"
          },
          "metadata": {
            "needs_background": "light"
          }
        }
      ]
    }
  ]
}