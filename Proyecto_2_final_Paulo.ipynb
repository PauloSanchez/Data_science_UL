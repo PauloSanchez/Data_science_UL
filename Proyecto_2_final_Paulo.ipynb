{
  "nbformat": 4,
  "nbformat_minor": 0,
  "metadata": {
    "colab": {
      "provenance": [],
      "collapsed_sections": [],
      "mount_file_id": "1-qWxrHMC8gMy8XQU6AeR1YibPxoaq03N",
      "authorship_tag": "ABX9TyNwNZFgRqPq5OwHRnwPKvsd",
      "include_colab_link": true
    },
    "kernelspec": {
      "name": "python3",
      "display_name": "Python 3"
    },
    "language_info": {
      "name": "python"
    }
  },
  "cells": [
    {
      "cell_type": "markdown",
      "metadata": {
        "id": "view-in-github",
        "colab_type": "text"
      },
      "source": [
        "<a href=\"https://colab.research.google.com/github/PauloSanchez/Data_science_UL/blob/main/Proyecto_2_final_Paulo.ipynb\" target=\"_parent\"><img src=\"https://colab.research.google.com/assets/colab-badge.svg\" alt=\"Open In Colab\"/></a>"
      ]
    },
    {
      "cell_type": "markdown",
      "source": [
        "#Analisis exploratorio"
      ],
      "metadata": {
        "id": "GDpEq2Ym41_N"
      }
    },
    {
      "cell_type": "code",
      "execution_count": 25,
      "metadata": {
        "colab": {
          "base_uri": "https://localhost:8080/",
          "height": 699
        },
        "id": "B1B-PDU0VQdd",
        "outputId": "76e7dba0-b225-4c0b-8f2b-a984841abe1c"
      },
      "outputs": [
        {
          "output_type": "execute_result",
          "data": {
            "text/plain": [
              "  Número de documento      CC  Planta   Tipo        ID de escaneo  \\\n",
              "0            155109.0  2247.0     0.0  INVPO  20210519_LXT8TSD360   \n",
              "1            155109.0  2247.0     0.0  INVPO  20210519_LXT8TSD360   \n",
              "2             82918.0  2247.0     0.0  INVPO  20210709_LSE6GAY973   \n",
              "3            224496.0  2247.0     0.0  INVPO  20210727_LS9OB34430   \n",
              "4            162544.0  2247.0     0.0  INVPO  20210927_LXEQO1Z858   \n",
              "\n",
              "  Fecha de escaneo Fecha de Vencimiento  Fecha Doc.    Asignado a  \\\n",
              "0       05/19/2021           08/16/2021  05/18/2021  VANIA.BLANCO   \n",
              "1       05/19/2021           08/16/2021  05/18/2021   XIMENA.TEJO   \n",
              "2       07/09/2021           08/15/2021  05/17/2021    EQUIPO IBM   \n",
              "3       07/27/2021           05/16/2021  05/16/2021   XIMENA.TEJO   \n",
              "4       09/27/2021           12/23/2021  09/24/2021  VANIA.BLANCO   \n",
              "\n",
              "                                           Acción  ...  \\\n",
              "0  Esperando la acción del Aprobador de GR (R400)  ...   \n",
              "1               Waiting GR Approver Action (R400)  ...   \n",
              "2               Waiting GR Approver Action (R400)  ...   \n",
              "3  Esperando la acción del Aprobador de GR (R400)  ...   \n",
              "4               Waiting GR Approver Action (R400)  ...   \n",
              "\n",
              "                             Concepto             Conca     Generación  \\\n",
              "0                   HONORARIO AGENCIA  15510950535712.0   Caso Antiguo   \n",
              "1                   HONORARIO AGENCIA  15510950535712.0  Caso Devuelto   \n",
              "2                   HONORARIO AGENCIA   8291850535712.0   Caso Antiguo   \n",
              "3  CONEXION, DESCONEXION CONT.REFRIG.  22449610123316.0   Caso Antiguo   \n",
              "4                   HONORARIO AGENCIA  16254450535712.0   Caso Antiguo   \n",
              "\n",
              "              Motivo general               Sub-Motivo Monto al P&L (CLP)  \\\n",
              "0              No Planificado         No provisionado       31647.058824   \n",
              "1              No Planificado  Cambio de PO (DE-PARA)       31647.058824   \n",
              "2              No Planificado                    KTOP      760479.831933   \n",
              "3  Planificado con diferencia           Sub-provisión           0.000000   \n",
              "4              No Planificado                    KTOP      108952.100840   \n",
              "\n",
              "  Fecha Resolución         Mes     Año Semana  \n",
              "0       2022-06-23       Junio  2022.0   25.0  \n",
              "1       2022-09-06  Septiembre  2022.0   36.0  \n",
              "2       2022-09-09  Septiembre  2022.0   36.0  \n",
              "3       2022-09-01  Septiembre  2022.0   35.0  \n",
              "4       2022-07-15       Julio  2022.0   28.0  \n",
              "\n",
              "[5 rows x 42 columns]"
            ],
            "text/html": [
              "\n",
              "  <div id=\"df-79ff7f50-65f5-4bd9-8365-920846f0cbcf\">\n",
              "    <div class=\"colab-df-container\">\n",
              "      <div>\n",
              "<style scoped>\n",
              "    .dataframe tbody tr th:only-of-type {\n",
              "        vertical-align: middle;\n",
              "    }\n",
              "\n",
              "    .dataframe tbody tr th {\n",
              "        vertical-align: top;\n",
              "    }\n",
              "\n",
              "    .dataframe thead th {\n",
              "        text-align: right;\n",
              "    }\n",
              "</style>\n",
              "<table border=\"1\" class=\"dataframe\">\n",
              "  <thead>\n",
              "    <tr style=\"text-align: right;\">\n",
              "      <th></th>\n",
              "      <th>Número de documento</th>\n",
              "      <th>CC</th>\n",
              "      <th>Planta</th>\n",
              "      <th>Tipo</th>\n",
              "      <th>ID de escaneo</th>\n",
              "      <th>Fecha de escaneo</th>\n",
              "      <th>Fecha de Vencimiento</th>\n",
              "      <th>Fecha Doc.</th>\n",
              "      <th>Asignado a</th>\n",
              "      <th>Acción</th>\n",
              "      <th>...</th>\n",
              "      <th>Concepto</th>\n",
              "      <th>Conca</th>\n",
              "      <th>Generación</th>\n",
              "      <th>Motivo general</th>\n",
              "      <th>Sub-Motivo</th>\n",
              "      <th>Monto al P&amp;L (CLP)</th>\n",
              "      <th>Fecha Resolución</th>\n",
              "      <th>Mes</th>\n",
              "      <th>Año</th>\n",
              "      <th>Semana</th>\n",
              "    </tr>\n",
              "  </thead>\n",
              "  <tbody>\n",
              "    <tr>\n",
              "      <th>0</th>\n",
              "      <td>155109.0</td>\n",
              "      <td>2247.0</td>\n",
              "      <td>0.0</td>\n",
              "      <td>INVPO</td>\n",
              "      <td>20210519_LXT8TSD360</td>\n",
              "      <td>05/19/2021</td>\n",
              "      <td>08/16/2021</td>\n",
              "      <td>05/18/2021</td>\n",
              "      <td>VANIA.BLANCO</td>\n",
              "      <td>Esperando la acción del Aprobador de GR (R400)</td>\n",
              "      <td>...</td>\n",
              "      <td>HONORARIO AGENCIA</td>\n",
              "      <td>15510950535712.0</td>\n",
              "      <td>Caso Antiguo</td>\n",
              "      <td>No Planificado</td>\n",
              "      <td>No provisionado</td>\n",
              "      <td>31647.058824</td>\n",
              "      <td>2022-06-23</td>\n",
              "      <td>Junio</td>\n",
              "      <td>2022.0</td>\n",
              "      <td>25.0</td>\n",
              "    </tr>\n",
              "    <tr>\n",
              "      <th>1</th>\n",
              "      <td>155109.0</td>\n",
              "      <td>2247.0</td>\n",
              "      <td>0.0</td>\n",
              "      <td>INVPO</td>\n",
              "      <td>20210519_LXT8TSD360</td>\n",
              "      <td>05/19/2021</td>\n",
              "      <td>08/16/2021</td>\n",
              "      <td>05/18/2021</td>\n",
              "      <td>XIMENA.TEJO</td>\n",
              "      <td>Waiting GR Approver Action (R400)</td>\n",
              "      <td>...</td>\n",
              "      <td>HONORARIO AGENCIA</td>\n",
              "      <td>15510950535712.0</td>\n",
              "      <td>Caso Devuelto</td>\n",
              "      <td>No Planificado</td>\n",
              "      <td>Cambio de PO (DE-PARA)</td>\n",
              "      <td>31647.058824</td>\n",
              "      <td>2022-09-06</td>\n",
              "      <td>Septiembre</td>\n",
              "      <td>2022.0</td>\n",
              "      <td>36.0</td>\n",
              "    </tr>\n",
              "    <tr>\n",
              "      <th>2</th>\n",
              "      <td>82918.0</td>\n",
              "      <td>2247.0</td>\n",
              "      <td>0.0</td>\n",
              "      <td>INVPO</td>\n",
              "      <td>20210709_LSE6GAY973</td>\n",
              "      <td>07/09/2021</td>\n",
              "      <td>08/15/2021</td>\n",
              "      <td>05/17/2021</td>\n",
              "      <td>EQUIPO IBM</td>\n",
              "      <td>Waiting GR Approver Action (R400)</td>\n",
              "      <td>...</td>\n",
              "      <td>HONORARIO AGENCIA</td>\n",
              "      <td>8291850535712.0</td>\n",
              "      <td>Caso Antiguo</td>\n",
              "      <td>No Planificado</td>\n",
              "      <td>KTOP</td>\n",
              "      <td>760479.831933</td>\n",
              "      <td>2022-09-09</td>\n",
              "      <td>Septiembre</td>\n",
              "      <td>2022.0</td>\n",
              "      <td>36.0</td>\n",
              "    </tr>\n",
              "    <tr>\n",
              "      <th>3</th>\n",
              "      <td>224496.0</td>\n",
              "      <td>2247.0</td>\n",
              "      <td>0.0</td>\n",
              "      <td>INVPO</td>\n",
              "      <td>20210727_LS9OB34430</td>\n",
              "      <td>07/27/2021</td>\n",
              "      <td>05/16/2021</td>\n",
              "      <td>05/16/2021</td>\n",
              "      <td>XIMENA.TEJO</td>\n",
              "      <td>Esperando la acción del Aprobador de GR (R400)</td>\n",
              "      <td>...</td>\n",
              "      <td>CONEXION, DESCONEXION CONT.REFRIG.</td>\n",
              "      <td>22449610123316.0</td>\n",
              "      <td>Caso Antiguo</td>\n",
              "      <td>Planificado con diferencia</td>\n",
              "      <td>Sub-provisión</td>\n",
              "      <td>0.000000</td>\n",
              "      <td>2022-09-01</td>\n",
              "      <td>Septiembre</td>\n",
              "      <td>2022.0</td>\n",
              "      <td>35.0</td>\n",
              "    </tr>\n",
              "    <tr>\n",
              "      <th>4</th>\n",
              "      <td>162544.0</td>\n",
              "      <td>2247.0</td>\n",
              "      <td>0.0</td>\n",
              "      <td>INVPO</td>\n",
              "      <td>20210927_LXEQO1Z858</td>\n",
              "      <td>09/27/2021</td>\n",
              "      <td>12/23/2021</td>\n",
              "      <td>09/24/2021</td>\n",
              "      <td>VANIA.BLANCO</td>\n",
              "      <td>Waiting GR Approver Action (R400)</td>\n",
              "      <td>...</td>\n",
              "      <td>HONORARIO AGENCIA</td>\n",
              "      <td>16254450535712.0</td>\n",
              "      <td>Caso Antiguo</td>\n",
              "      <td>No Planificado</td>\n",
              "      <td>KTOP</td>\n",
              "      <td>108952.100840</td>\n",
              "      <td>2022-07-15</td>\n",
              "      <td>Julio</td>\n",
              "      <td>2022.0</td>\n",
              "      <td>28.0</td>\n",
              "    </tr>\n",
              "  </tbody>\n",
              "</table>\n",
              "<p>5 rows × 42 columns</p>\n",
              "</div>\n",
              "      <button class=\"colab-df-convert\" onclick=\"convertToInteractive('df-79ff7f50-65f5-4bd9-8365-920846f0cbcf')\"\n",
              "              title=\"Convert this dataframe to an interactive table.\"\n",
              "              style=\"display:none;\">\n",
              "        \n",
              "  <svg xmlns=\"http://www.w3.org/2000/svg\" height=\"24px\"viewBox=\"0 0 24 24\"\n",
              "       width=\"24px\">\n",
              "    <path d=\"M0 0h24v24H0V0z\" fill=\"none\"/>\n",
              "    <path d=\"M18.56 5.44l.94 2.06.94-2.06 2.06-.94-2.06-.94-.94-2.06-.94 2.06-2.06.94zm-11 1L8.5 8.5l.94-2.06 2.06-.94-2.06-.94L8.5 2.5l-.94 2.06-2.06.94zm10 10l.94 2.06.94-2.06 2.06-.94-2.06-.94-.94-2.06-.94 2.06-2.06.94z\"/><path d=\"M17.41 7.96l-1.37-1.37c-.4-.4-.92-.59-1.43-.59-.52 0-1.04.2-1.43.59L10.3 9.45l-7.72 7.72c-.78.78-.78 2.05 0 2.83L4 21.41c.39.39.9.59 1.41.59.51 0 1.02-.2 1.41-.59l7.78-7.78 2.81-2.81c.8-.78.8-2.07 0-2.86zM5.41 20L4 18.59l7.72-7.72 1.47 1.35L5.41 20z\"/>\n",
              "  </svg>\n",
              "      </button>\n",
              "      \n",
              "  <style>\n",
              "    .colab-df-container {\n",
              "      display:flex;\n",
              "      flex-wrap:wrap;\n",
              "      gap: 12px;\n",
              "    }\n",
              "\n",
              "    .colab-df-convert {\n",
              "      background-color: #E8F0FE;\n",
              "      border: none;\n",
              "      border-radius: 50%;\n",
              "      cursor: pointer;\n",
              "      display: none;\n",
              "      fill: #1967D2;\n",
              "      height: 32px;\n",
              "      padding: 0 0 0 0;\n",
              "      width: 32px;\n",
              "    }\n",
              "\n",
              "    .colab-df-convert:hover {\n",
              "      background-color: #E2EBFA;\n",
              "      box-shadow: 0px 1px 2px rgba(60, 64, 67, 0.3), 0px 1px 3px 1px rgba(60, 64, 67, 0.15);\n",
              "      fill: #174EA6;\n",
              "    }\n",
              "\n",
              "    [theme=dark] .colab-df-convert {\n",
              "      background-color: #3B4455;\n",
              "      fill: #D2E3FC;\n",
              "    }\n",
              "\n",
              "    [theme=dark] .colab-df-convert:hover {\n",
              "      background-color: #434B5C;\n",
              "      box-shadow: 0px 1px 3px 1px rgba(0, 0, 0, 0.15);\n",
              "      filter: drop-shadow(0px 1px 2px rgba(0, 0, 0, 0.3));\n",
              "      fill: #FFFFFF;\n",
              "    }\n",
              "  </style>\n",
              "\n",
              "      <script>\n",
              "        const buttonEl =\n",
              "          document.querySelector('#df-79ff7f50-65f5-4bd9-8365-920846f0cbcf button.colab-df-convert');\n",
              "        buttonEl.style.display =\n",
              "          google.colab.kernel.accessAllowed ? 'block' : 'none';\n",
              "\n",
              "        async function convertToInteractive(key) {\n",
              "          const element = document.querySelector('#df-79ff7f50-65f5-4bd9-8365-920846f0cbcf');\n",
              "          const dataTable =\n",
              "            await google.colab.kernel.invokeFunction('convertToInteractive',\n",
              "                                                     [key], {});\n",
              "          if (!dataTable) return;\n",
              "\n",
              "          const docLinkHtml = 'Like what you see? Visit the ' +\n",
              "            '<a target=\"_blank\" href=https://colab.research.google.com/notebooks/data_table.ipynb>data table notebook</a>'\n",
              "            + ' to learn more about interactive tables.';\n",
              "          element.innerHTML = '';\n",
              "          dataTable['output_type'] = 'display_data';\n",
              "          await google.colab.output.renderOutput(dataTable, element);\n",
              "          const docLink = document.createElement('div');\n",
              "          docLink.innerHTML = docLinkHtml;\n",
              "          element.appendChild(docLink);\n",
              "        }\n",
              "      </script>\n",
              "    </div>\n",
              "  </div>\n",
              "  "
            ]
          },
          "metadata": {},
          "execution_count": 25
        }
      ],
      "source": [
        "#Importamos lubreria pandas para carga de datos.\n",
        "import pandas as pd\n",
        "import numpy as np\n",
        "\n",
        "df = pd.read_excel('/content/drive/MyDrive/Colab Notebooks/Archivos ejercicios/Proyecto 2/Historico_DCIW_Resueltos.xlsx')\n",
        "df.head()"
      ]
    },
    {
      "cell_type": "code",
      "source": [
        "df.info()"
      ],
      "metadata": {
        "colab": {
          "base_uri": "https://localhost:8080/"
        },
        "id": "wV4k6I3ralRr",
        "outputId": "72f18879-6c7b-45ab-832c-47685b9d3f8f"
      },
      "execution_count": 26,
      "outputs": [
        {
          "output_type": "stream",
          "name": "stdout",
          "text": [
            "<class 'pandas.core.frame.DataFrame'>\n",
            "RangeIndex: 8058 entries, 0 to 8057\n",
            "Data columns (total 42 columns):\n",
            " #   Column                      Non-Null Count  Dtype         \n",
            "---  ------                      --------------  -----         \n",
            " 0   Número de documento         8058 non-null   object        \n",
            " 1   CC                          8058 non-null   float64       \n",
            " 2   Planta                      8058 non-null   float64       \n",
            " 3   Tipo                        8058 non-null   object        \n",
            " 4   ID de escaneo               8058 non-null   object        \n",
            " 5   Fecha de escaneo            8058 non-null   object        \n",
            " 6   Fecha de Vencimiento        7563 non-null   object        \n",
            " 7   Fecha Doc.                  7563 non-null   object        \n",
            " 8   Asignado a                  8058 non-null   object        \n",
            " 9   Acción                      7563 non-null   object        \n",
            " 10  Razón                       8058 non-null   object        \n",
            " 11  Fecha de estado             7563 non-null   object        \n",
            " 12  Monto Total                 8058 non-null   float64       \n",
            " 13  Moneda                      8058 non-null   object        \n",
            " 14  Número de OC                7952 non-null   object        \n",
            " 15  No. del proveedor           8058 non-null   object        \n",
            " 16  Nombre del proveedor        8058 non-null   object        \n",
            " 17  RFC del proveedor           477 non-null    object        \n",
            " 18  Fecha escaneo               7563 non-null   object        \n",
            " 19  Fecha Documento             7563 non-null   object        \n",
            " 20  Numero de PO                6252 non-null   object        \n",
            " 21  Categoria                   2486 non-null   object        \n",
            " 22  PO TEXTO                    2485 non-null   object        \n",
            " 23  Cant. Digito PO (10)        8058 non-null   float64       \n",
            " 24  Monto total Neto            8055 non-null   float64       \n",
            " 25  Monto PO/Vendor DCIW        8058 non-null   float64       \n",
            " 26  Monto PO/Vendor MB5S        8058 non-null   object        \n",
            " 27  Diferencias (TH 100 Euros)  8058 non-null   float64       \n",
            " 28  Status                      8057 non-null   object        \n",
            " 29  Área Responsable            8058 non-null   object        \n",
            " 30  Año Documento               8058 non-null   float64       \n",
            " 31  Rango antigüedad            7563 non-null   object        \n",
            " 32  Concepto                    8058 non-null   object        \n",
            " 33  Conca                       8058 non-null   object        \n",
            " 34  Generación                  7563 non-null   object        \n",
            " 35  Motivo general              8058 non-null   object        \n",
            " 36  Sub-Motivo                  8057 non-null   object        \n",
            " 37  Monto al P&L (CLP)          8057 non-null   float64       \n",
            " 38  Fecha Resolución            8058 non-null   datetime64[ns]\n",
            " 39  Mes                         8058 non-null   object        \n",
            " 40  Año                         8058 non-null   float64       \n",
            " 41  Semana                      8058 non-null   float64       \n",
            "dtypes: datetime64[ns](1), float64(11), object(30)\n",
            "memory usage: 2.6+ MB\n"
          ]
        }
      ]
    },
    {
      "cell_type": "markdown",
      "source": [
        "Se observan valores nulos o vacios en el dataframe, lñas columnas que no agregan valor al modelo se eliminarán y dejaremos solo aquellos que le sirven."
      ],
      "metadata": {
        "id": "XlP1XUCncw4Z"
      }
    },
    {
      "cell_type": "code",
      "source": [
        "df = df.drop(columns=['RFC del proveedor','CC','Planta','Acción','Conca','Cant. Digito PO (10)','Área Responsable','Diferencias (TH 100 Euros)',\n",
        "                      'Monto PO/Vendor MB5S','Monto PO/Vendor DCIW','Número de OC','PO TEXTO','Fecha de Vencimiento','Categoria','Numero de PO',\n",
        "                      'Fecha de estado','Fecha Doc.','Fecha Documento','Fecha escaneo','Rango antigüedad','Generación'])\n",
        "df.info()"
      ],
      "metadata": {
        "colab": {
          "base_uri": "https://localhost:8080/"
        },
        "id": "pInAvmLIc-vc",
        "outputId": "674d08a0-b0f6-4c8b-9c02-62404bb57420"
      },
      "execution_count": 27,
      "outputs": [
        {
          "output_type": "stream",
          "name": "stdout",
          "text": [
            "<class 'pandas.core.frame.DataFrame'>\n",
            "RangeIndex: 8058 entries, 0 to 8057\n",
            "Data columns (total 21 columns):\n",
            " #   Column                Non-Null Count  Dtype         \n",
            "---  ------                --------------  -----         \n",
            " 0   Número de documento   8058 non-null   object        \n",
            " 1   Tipo                  8058 non-null   object        \n",
            " 2   ID de escaneo         8058 non-null   object        \n",
            " 3   Fecha de escaneo      8058 non-null   object        \n",
            " 4   Asignado a            8058 non-null   object        \n",
            " 5   Razón                 8058 non-null   object        \n",
            " 6   Monto Total           8058 non-null   float64       \n",
            " 7   Moneda                8058 non-null   object        \n",
            " 8   No. del proveedor     8058 non-null   object        \n",
            " 9   Nombre del proveedor  8058 non-null   object        \n",
            " 10  Monto total Neto      8055 non-null   float64       \n",
            " 11  Status                8057 non-null   object        \n",
            " 12  Año Documento         8058 non-null   float64       \n",
            " 13  Concepto              8058 non-null   object        \n",
            " 14  Motivo general        8058 non-null   object        \n",
            " 15  Sub-Motivo            8057 non-null   object        \n",
            " 16  Monto al P&L (CLP)    8057 non-null   float64       \n",
            " 17  Fecha Resolución      8058 non-null   datetime64[ns]\n",
            " 18  Mes                   8058 non-null   object        \n",
            " 19  Año                   8058 non-null   float64       \n",
            " 20  Semana                8058 non-null   float64       \n",
            "dtypes: datetime64[ns](1), float64(6), object(14)\n",
            "memory usage: 1.3+ MB\n"
          ]
        }
      ]
    },
    {
      "cell_type": "markdown",
      "source": [
        "Para el caso de la columna \"Monto al P&L (CLP)\" se rellenaran con cero los nulos, pues es altamente probable que ese sea el caso, de \"Status\" se reemplazarán por \"Merge\" y \"Sub-motivo\" se eliminarán las filas, pues es complejo entender a que sub-motivo corresponde."
      ],
      "metadata": {
        "id": "UPH3NIlTgrxC"
      }
    },
    {
      "cell_type": "code",
      "source": [
        "df['Status'] = df['Status'].fillna(\"Merge\")\n",
        "df['Monto al P&L (CLP)'] = df['Monto al P&L (CLP)'].fillna(\"0\")\n",
        "df.info()"
      ],
      "metadata": {
        "colab": {
          "base_uri": "https://localhost:8080/"
        },
        "id": "HwlwwGFJxzfW",
        "outputId": "6b693268-61bb-470a-865e-091cc45efe00"
      },
      "execution_count": 28,
      "outputs": [
        {
          "output_type": "stream",
          "name": "stdout",
          "text": [
            "<class 'pandas.core.frame.DataFrame'>\n",
            "RangeIndex: 8058 entries, 0 to 8057\n",
            "Data columns (total 21 columns):\n",
            " #   Column                Non-Null Count  Dtype         \n",
            "---  ------                --------------  -----         \n",
            " 0   Número de documento   8058 non-null   object        \n",
            " 1   Tipo                  8058 non-null   object        \n",
            " 2   ID de escaneo         8058 non-null   object        \n",
            " 3   Fecha de escaneo      8058 non-null   object        \n",
            " 4   Asignado a            8058 non-null   object        \n",
            " 5   Razón                 8058 non-null   object        \n",
            " 6   Monto Total           8058 non-null   float64       \n",
            " 7   Moneda                8058 non-null   object        \n",
            " 8   No. del proveedor     8058 non-null   object        \n",
            " 9   Nombre del proveedor  8058 non-null   object        \n",
            " 10  Monto total Neto      8055 non-null   float64       \n",
            " 11  Status                8058 non-null   object        \n",
            " 12  Año Documento         8058 non-null   float64       \n",
            " 13  Concepto              8058 non-null   object        \n",
            " 14  Motivo general        8058 non-null   object        \n",
            " 15  Sub-Motivo            8057 non-null   object        \n",
            " 16  Monto al P&L (CLP)    8058 non-null   object        \n",
            " 17  Fecha Resolución      8058 non-null   datetime64[ns]\n",
            " 18  Mes                   8058 non-null   object        \n",
            " 19  Año                   8058 non-null   float64       \n",
            " 20  Semana                8058 non-null   float64       \n",
            "dtypes: datetime64[ns](1), float64(5), object(15)\n",
            "memory usage: 1.3+ MB\n"
          ]
        }
      ]
    },
    {
      "cell_type": "markdown",
      "source": [
        "Los NAN que van quedando se eliminarán considerando que son máx 4 filas."
      ],
      "metadata": {
        "id": "Kx3snpaa2FZr"
      }
    },
    {
      "cell_type": "code",
      "source": [
        "df = df.dropna()\n",
        "df.info()"
      ],
      "metadata": {
        "colab": {
          "base_uri": "https://localhost:8080/"
        },
        "id": "Fx6sxr002OYk",
        "outputId": "0a254856-96fb-4281-b06a-0ae84990a81f"
      },
      "execution_count": 29,
      "outputs": [
        {
          "output_type": "stream",
          "name": "stdout",
          "text": [
            "<class 'pandas.core.frame.DataFrame'>\n",
            "Int64Index: 8054 entries, 0 to 8057\n",
            "Data columns (total 21 columns):\n",
            " #   Column                Non-Null Count  Dtype         \n",
            "---  ------                --------------  -----         \n",
            " 0   Número de documento   8054 non-null   object        \n",
            " 1   Tipo                  8054 non-null   object        \n",
            " 2   ID de escaneo         8054 non-null   object        \n",
            " 3   Fecha de escaneo      8054 non-null   object        \n",
            " 4   Asignado a            8054 non-null   object        \n",
            " 5   Razón                 8054 non-null   object        \n",
            " 6   Monto Total           8054 non-null   float64       \n",
            " 7   Moneda                8054 non-null   object        \n",
            " 8   No. del proveedor     8054 non-null   object        \n",
            " 9   Nombre del proveedor  8054 non-null   object        \n",
            " 10  Monto total Neto      8054 non-null   float64       \n",
            " 11  Status                8054 non-null   object        \n",
            " 12  Año Documento         8054 non-null   float64       \n",
            " 13  Concepto              8054 non-null   object        \n",
            " 14  Motivo general        8054 non-null   object        \n",
            " 15  Sub-Motivo            8054 non-null   object        \n",
            " 16  Monto al P&L (CLP)    8054 non-null   object        \n",
            " 17  Fecha Resolución      8054 non-null   datetime64[ns]\n",
            " 18  Mes                   8054 non-null   object        \n",
            " 19  Año                   8054 non-null   float64       \n",
            " 20  Semana                8054 non-null   float64       \n",
            "dtypes: datetime64[ns](1), float64(5), object(15)\n",
            "memory usage: 1.4+ MB\n"
          ]
        }
      ]
    },
    {
      "cell_type": "markdown",
      "source": [
        "Observamos que los datos ya se encuentran ok,solo resta ajustar el tipo de dato de cada columna al correcto."
      ],
      "metadata": {
        "id": "3lqzhIyj7f4D"
      }
    },
    {
      "cell_type": "code",
      "source": [
        "#Renombrar columnas\n",
        "df.columns=['Número_de_documento','Tipo','ID_de_escaneo','Fecha_de_escaneo','Asignado_a','Razón','Monto_Total',\n",
        "            'Moneda', 'ID_del_proveedor', 'Nombre_del_proveedor', 'Monto_total_Neto', 'Status', 'Año_Documento',\n",
        "            'Concepto', 'Motivo_general', 'Sub-Motivo', 'Monto_al_P&L', 'Fecha_Resolución',\n",
        "            'Mes', 'Año', 'Semana']\n",
        "\n",
        "#Reemplazar datos para homogeneidad.\n",
        "\n",
        "df.loc[df.Motivo_general=='no planificado','Motivo_general']='No Planificado'\n",
        "df.loc[df.Motivo_general=='planificado','Motivo_general']='Planificado'\n",
        "\n",
        "#Graficando surgió la necesidad de este codigo.\n",
        "df.loc[df.Mes=='Mayo','Mes']='5'\n",
        "df.loc[df.Mes=='Junio','Mes']='6'\n",
        "df.loc[df.Mes=='Julio','Mes']='7'\n",
        "df.loc[df.Mes=='Agosto','Mes']='8'\n",
        "df.loc[df.Mes=='Septiembre','Mes']='9'\n",
        "df.loc[df.Mes=='Octubre','Mes']='10'\n"
      ],
      "metadata": {
        "id": "BhA379w9Bs8h"
      },
      "execution_count": 30,
      "outputs": []
    },
    {
      "cell_type": "markdown",
      "source": [
        "Al intentar crear graficos detecté que habian datos con minusculas y otros mayusculas, asi que renombraré las columnas que tenian espacios, para realizar el cambio de los datos a un mismo caracter."
      ],
      "metadata": {
        "id": "yFRIYbg9DHe3"
      }
    },
    {
      "cell_type": "code",
      "source": [
        "\n",
        "#Una vez realizado el reemplazo, debemos dar formato a las columnas afectadas y aquellas float.\n",
        "\n",
        "df['Año_Documento'] = df['Año_Documento'].astype(int)\n",
        "df['Monto_al_P&L'] = df['Monto_al_P&L'].astype(float)\n",
        "df['Año'] = df['Año'].astype(int)\n",
        "df['Semana'] = df['Semana'].astype(int)\n",
        "df['Mes'] = df['Mes'].astype(int)\n",
        "\n",
        "df.info()"
      ],
      "metadata": {
        "colab": {
          "base_uri": "https://localhost:8080/"
        },
        "id": "OtugxAsc7tIs",
        "outputId": "3fc7359b-a428-47a6-f3d5-d8e8a5d9606e"
      },
      "execution_count": 31,
      "outputs": [
        {
          "output_type": "stream",
          "name": "stdout",
          "text": [
            "<class 'pandas.core.frame.DataFrame'>\n",
            "Int64Index: 8054 entries, 0 to 8057\n",
            "Data columns (total 21 columns):\n",
            " #   Column                Non-Null Count  Dtype         \n",
            "---  ------                --------------  -----         \n",
            " 0   Número_de_documento   8054 non-null   object        \n",
            " 1   Tipo                  8054 non-null   object        \n",
            " 2   ID_de_escaneo         8054 non-null   object        \n",
            " 3   Fecha_de_escaneo      8054 non-null   object        \n",
            " 4   Asignado_a            8054 non-null   object        \n",
            " 5   Razón                 8054 non-null   object        \n",
            " 6   Monto_Total           8054 non-null   float64       \n",
            " 7   Moneda                8054 non-null   object        \n",
            " 8   ID_del_proveedor      8054 non-null   object        \n",
            " 9   Nombre_del_proveedor  8054 non-null   object        \n",
            " 10  Monto_total_Neto      8054 non-null   float64       \n",
            " 11  Status                8054 non-null   object        \n",
            " 12  Año_Documento         8054 non-null   int64         \n",
            " 13  Concepto              8054 non-null   object        \n",
            " 14  Motivo_general        8054 non-null   object        \n",
            " 15  Sub-Motivo            8054 non-null   object        \n",
            " 16  Monto_al_P&L          8054 non-null   float64       \n",
            " 17  Fecha_Resolución      8054 non-null   datetime64[ns]\n",
            " 18  Mes                   8054 non-null   int64         \n",
            " 19  Año                   8054 non-null   int64         \n",
            " 20  Semana                8054 non-null   int64         \n",
            "dtypes: datetime64[ns](1), float64(3), int64(4), object(13)\n",
            "memory usage: 1.4+ MB\n"
          ]
        }
      ]
    },
    {
      "cell_type": "markdown",
      "source": [
        "#Visualizaciones"
      ],
      "metadata": {
        "id": "Djz1xFJp5dtz"
      }
    },
    {
      "cell_type": "code",
      "source": [
        "#Importamos libreria de visualizaciones\n",
        "import matplotlib.pyplot as plt"
      ],
      "metadata": {
        "id": "9Xcwv_BR5fHD"
      },
      "execution_count": 32,
      "outputs": []
    },
    {
      "cell_type": "code",
      "source": [
        "df.info()"
      ],
      "metadata": {
        "colab": {
          "base_uri": "https://localhost:8080/"
        },
        "id": "7Lqqa3l46zBm",
        "outputId": "e6eaae45-a14c-4caa-da5c-c6a269c5bf55"
      },
      "execution_count": 33,
      "outputs": [
        {
          "output_type": "stream",
          "name": "stdout",
          "text": [
            "<class 'pandas.core.frame.DataFrame'>\n",
            "Int64Index: 8054 entries, 0 to 8057\n",
            "Data columns (total 21 columns):\n",
            " #   Column                Non-Null Count  Dtype         \n",
            "---  ------                --------------  -----         \n",
            " 0   Número_de_documento   8054 non-null   object        \n",
            " 1   Tipo                  8054 non-null   object        \n",
            " 2   ID_de_escaneo         8054 non-null   object        \n",
            " 3   Fecha_de_escaneo      8054 non-null   object        \n",
            " 4   Asignado_a            8054 non-null   object        \n",
            " 5   Razón                 8054 non-null   object        \n",
            " 6   Monto_Total           8054 non-null   float64       \n",
            " 7   Moneda                8054 non-null   object        \n",
            " 8   ID_del_proveedor      8054 non-null   object        \n",
            " 9   Nombre_del_proveedor  8054 non-null   object        \n",
            " 10  Monto_total_Neto      8054 non-null   float64       \n",
            " 11  Status                8054 non-null   object        \n",
            " 12  Año_Documento         8054 non-null   int64         \n",
            " 13  Concepto              8054 non-null   object        \n",
            " 14  Motivo_general        8054 non-null   object        \n",
            " 15  Sub-Motivo            8054 non-null   object        \n",
            " 16  Monto_al_P&L          8054 non-null   float64       \n",
            " 17  Fecha_Resolución      8054 non-null   datetime64[ns]\n",
            " 18  Mes                   8054 non-null   int64         \n",
            " 19  Año                   8054 non-null   int64         \n",
            " 20  Semana                8054 non-null   int64         \n",
            "dtypes: datetime64[ns](1), float64(3), int64(4), object(13)\n",
            "memory usage: 1.4+ MB\n"
          ]
        }
      ]
    },
    {
      "cell_type": "code",
      "source": [
        "#Graficamos\n",
        "\n",
        "filtro1 = df['Monto_al_P&L'] > 0\n",
        "df1=df.loc[filtro1, :] #Creamos un nuevo dataframe con el filtro.\n",
        "data1=df1.groupby(['Motivo_general'])['Monto_al_P&L'].sum()\n",
        "x=np.array(data1.index)\n",
        "y=np.array(data1.values)\n",
        "\n",
        "#Graficamos\n",
        "plt.style.use('seaborn')\n",
        "plt.suptitle('Grafico N°1', fontsize=18,fontweight=\"bold\", c=\"k\")\n",
        "plt.title('Importe contabilizado sin provisión', fontsize=12)\n",
        "plt.bar(x,y, color=\"m\", alpha=0.5)\n",
        "plt.xlabel('Motivo', fontsize=12)\n",
        "plt.ylabel('CLP miles de millones', fontsize=12)\n",
        "plt.xticks(size=12, rotation = -45)\n",
        "plt.legend(['Importe por motivo en Miles de millones'],loc=(1.03,0.5))"
      ],
      "metadata": {
        "colab": {
          "base_uri": "https://localhost:8080/",
          "height": 516
        },
        "id": "lW4BrKyf5bn_",
        "outputId": "478035a7-3ab7-4483-e855-bf424a001381"
      },
      "execution_count": 34,
      "outputs": [
        {
          "output_type": "execute_result",
          "data": {
            "text/plain": [
              "<matplotlib.legend.Legend at 0x7f97f9727710>"
            ]
          },
          "metadata": {},
          "execution_count": 34
        },
        {
          "output_type": "display_data",
          "data": {
            "text/plain": [
              "<Figure size 576x396 with 1 Axes>"
            ],
            "image/png": "[encoded data removed]"
          },
          "metadata": {}
        }
      ]
    },
    {
      "cell_type": "markdown",
      "source": [
        "El grafico muestra el dinero que se contabilizó sin tener una provisión e impactó directamente los resultados financieros."
      ],
      "metadata": {
        "id": "LfOF9DilLoQa"
      }
    },
    {
      "cell_type": "code",
      "source": [
        "\n",
        "#Graficamos\n",
        "data2=df1.groupby(['Mes'])['Monto_al_P&L'].sum()\n",
        "x1=np.array(data2.index)\n",
        "y1=np.array(data2.values)\n",
        "\n",
        "#Graficamos\n",
        "plt.style.use('dark_background')\n",
        "plt.suptitle('Grafico N°2', fontsize=18,fontweight=\"bold\", c=\"w\")\n",
        "plt.title('Impacto mensual al P&L', fontsize=12)\n",
        "plt.plot(x1, y1, \"m-\",markersize = 25, alpha=0.9)\n",
        "plt.plot(x1, y1, \"c*\",markersize = 25)\n",
        "plt.xlabel('Meses', fontsize=12)\n",
        "plt.ylabel('CLP miles de millones', fontsize=12)\n",
        "plt.xticks(size=12)\n",
        "\n",
        "plt.xlim(4,11)\n",
        "plt.legend(['Impacto por mes'],loc=(0.25,-0.19))"
      ],
      "metadata": {
        "colab": {
          "base_uri": "https://localhost:8080/",
          "height": 444
        },
        "id": "knwZfSZmo05T",
        "outputId": "7c3ab58e-5577-4b38-87ad-90d63878aa06"
      },
      "execution_count": 35,
      "outputs": [
        {
          "output_type": "execute_result",
          "data": {
            "text/plain": [
              "<matplotlib.legend.Legend at 0x7f97f83ce050>"
            ]
          },
          "metadata": {},
          "execution_count": 35
        },
        {
          "output_type": "display_data",
          "data": {
            "text/plain": [
              "<Figure size 576x396 with 1 Axes>"
            ],
            "image/png": "[encoded data removed]"
          },
          "metadata": {}
        }
      ]
    },
    {
      "cell_type": "markdown",
      "source": [
        "Se visualiza el impacto a los resultados financiero por cada mes del año 2022 en miles de millones de pesos chilenos."
      ],
      "metadata": {
        "id": "CpnN5vlzwZ23"
      }
    },
    {
      "cell_type": "code",
      "source": [
        "#Graficamos\n",
        "data3=df1.groupby(['Mes'])['Monto_al_P&L'].sum()\n",
        "x2=np.array(data3.index)\n",
        "y2=np.array(data3.values)\n",
        "\n",
        "\n",
        "plt.style.use('seaborn')\n",
        "plt.suptitle('Grafico N°3', fontsize=18,fontweight=\"bold\", c=\"k\")\n",
        "plt.title('Impacto mensual al P&L', fontsize=12)\n",
        "plt.scatter(df1['Mes'],df1['Monto_al_P&L'], color=\"g\")\n",
        "plt.annotate('Outlayer',fontsize=12, xy=(8,34500000), xytext=(6,35000000), arrowprops=dict(facecolor='red', shrink=0.05))\n",
        "plt.xlim(4.5,10.5)\n",
        "plt.ylim(0,38000000)\n",
        "plt.legend(['Impacto por mes'],loc=(0.25,-0.19))\n",
        "plt.xlabel('Meses', fontsize=12)\n",
        "plt.ylabel('CLP miles de millones', fontsize=12)"
      ],
      "metadata": {
        "colab": {
          "base_uri": "https://localhost:8080/",
          "height": 444
        },
        "id": "VCWo1m5Xr8Xk",
        "outputId": "9a14413d-f233-4d46-f7c3-5facc143ff4a"
      },
      "execution_count": 36,
      "outputs": [
        {
          "output_type": "execute_result",
          "data": {
            "text/plain": [
              "Text(0, 0.5, 'CLP miles de millones')"
            ]
          },
          "metadata": {},
          "execution_count": 36
        },
        {
          "output_type": "display_data",
          "data": {
            "text/plain": [
              "<Figure size 576x396 with 1 Axes>"
            ],
            "image/png": "[encoded data removed]"
          },
          "metadata": {}
        }
      ]
    },
    {
      "cell_type": "code",
      "source": [
        "matriz = df1.corr()\n",
        "\n",
        "plt.matshow(matriz,cmap='coolwarm',vmin=-1, vmax=1)\n",
        "plt.xticks(range(7), matriz.columns,rotation=45)\n",
        "plt.yticks(range(7), matriz.columns)\n",
        "plt.colorbar()"
      ],
      "metadata": {
        "colab": {
          "base_uri": "https://localhost:8080/",
          "height": 401
        },
        "id": "ZZP9bZ56yU1Y",
        "outputId": "7bc5ee1b-2549-4434-8eae-21152c3e4d1b"
      },
      "execution_count": 37,
      "outputs": [
        {
          "output_type": "execute_result",
          "data": {
            "text/plain": [
              "<matplotlib.colorbar.Colorbar at 0x7f97f8c93750>"
            ]
          },
          "metadata": {},
          "execution_count": 37
        },
        {
          "output_type": "display_data",
          "data": {
            "text/plain": [
              "<Figure size 396x396 with 2 Axes>"
            ],
            "image/png": "[encoded data removed]"
          },
          "metadata": {}
        }
      ]
    },
    {
      "cell_type": "markdown",
      "source": [
        "Al ver el grafico de correlación se ven pocas columnas pero se debe a que hay variables categoricas que debemos transformar."
      ],
      "metadata": {
        "id": "G8opRKQ15OQl"
      }
    },
    {
      "cell_type": "code",
      "source": [
        "df1.info()"
      ],
      "metadata": {
        "colab": {
          "base_uri": "https://localhost:8080/"
        },
        "id": "GyB7cBFx77ac",
        "outputId": "c54a356a-9813-4e89-9609-9a0687d93118"
      },
      "execution_count": 38,
      "outputs": [
        {
          "output_type": "stream",
          "name": "stdout",
          "text": [
            "<class 'pandas.core.frame.DataFrame'>\n",
            "Int64Index: 6977 entries, 0 to 8057\n",
            "Data columns (total 21 columns):\n",
            " #   Column                Non-Null Count  Dtype         \n",
            "---  ------                --------------  -----         \n",
            " 0   Número_de_documento   6977 non-null   object        \n",
            " 1   Tipo                  6977 non-null   object        \n",
            " 2   ID_de_escaneo         6977 non-null   object        \n",
            " 3   Fecha_de_escaneo      6977 non-null   object        \n",
            " 4   Asignado_a            6977 non-null   object        \n",
            " 5   Razón                 6977 non-null   object        \n",
            " 6   Monto_Total           6977 non-null   float64       \n",
            " 7   Moneda                6977 non-null   object        \n",
            " 8   ID_del_proveedor      6977 non-null   object        \n",
            " 9   Nombre_del_proveedor  6977 non-null   object        \n",
            " 10  Monto_total_Neto      6977 non-null   float64       \n",
            " 11  Status                6977 non-null   object        \n",
            " 12  Año_Documento         6977 non-null   int64         \n",
            " 13  Concepto              6977 non-null   object        \n",
            " 14  Motivo_general        6977 non-null   object        \n",
            " 15  Sub-Motivo            6977 non-null   object        \n",
            " 16  Monto_al_P&L          6977 non-null   float64       \n",
            " 17  Fecha_Resolución      6977 non-null   datetime64[ns]\n",
            " 18  Mes                   6977 non-null   int64         \n",
            " 19  Año                   6977 non-null   int64         \n",
            " 20  Semana                6977 non-null   int64         \n",
            "dtypes: datetime64[ns](1), float64(3), int64(4), object(13)\n",
            "memory usage: 1.2+ MB\n"
          ]
        }
      ]
    },
    {
      "cell_type": "code",
      "source": [
        "#Variables categoricas\n",
        "\n",
        "df1['Motivo_general'] = pd.factorize(df1['Motivo_general'])[0]\n",
        "df1['Sub-Motivo'] = pd.factorize(df1['Sub-Motivo'])[0]\n",
        "df1['Status'] = pd.factorize(df1['Status'])[0]"
      ],
      "metadata": {
        "id": "QKO6VU6w5UwI",
        "colab": {
          "base_uri": "https://localhost:8080/"
        },
        "outputId": "d4ad26a6-6020-4dd9-9ba3-ffb3921c9381"
      },
      "execution_count": 39,
      "outputs": [
        {
          "output_type": "stream",
          "name": "stderr",
          "text": [
            "/usr/local/lib/python3.7/dist-packages/ipykernel_launcher.py:3: SettingWithCopyWarning: \n",
            "A value is trying to be set on a copy of a slice from a DataFrame.\n",
            "Try using .loc[row_indexer,col_indexer] = value instead\n",
            "\n",
            "See the caveats in the documentation: https://pandas.pydata.org/pandas-docs/stable/user_guide/indexing.html#returning-a-view-versus-a-copy\n",
            "  This is separate from the ipykernel package so we can avoid doing imports until\n",
            "/usr/local/lib/python3.7/dist-packages/ipykernel_launcher.py:4: SettingWithCopyWarning: \n",
            "A value is trying to be set on a copy of a slice from a DataFrame.\n",
            "Try using .loc[row_indexer,col_indexer] = value instead\n",
            "\n",
            "See the caveats in the documentation: https://pandas.pydata.org/pandas-docs/stable/user_guide/indexing.html#returning-a-view-versus-a-copy\n",
            "  after removing the cwd from sys.path.\n",
            "/usr/local/lib/python3.7/dist-packages/ipykernel_launcher.py:5: SettingWithCopyWarning: \n",
            "A value is trying to be set on a copy of a slice from a DataFrame.\n",
            "Try using .loc[row_indexer,col_indexer] = value instead\n",
            "\n",
            "See the caveats in the documentation: https://pandas.pydata.org/pandas-docs/stable/user_guide/indexing.html#returning-a-view-versus-a-copy\n",
            "  \"\"\"\n"
          ]
        }
      ]
    },
    {
      "cell_type": "code",
      "source": [
        "matriz = df1.corr()\n",
        "\n",
        "plt.matshow(matriz,cmap='coolwarm',vmin=-1, vmax=1)\n",
        "plt.xticks(range(10), matriz.columns,rotation=45)\n",
        "plt.yticks(range(10), matriz.columns)\n",
        "plt.colorbar()"
      ],
      "metadata": {
        "colab": {
          "base_uri": "https://localhost:8080/",
          "height": 401
        },
        "id": "ZMTMl0m1_KUV",
        "outputId": "7f73aed6-81cf-4238-8d3f-40df57eb8953"
      },
      "execution_count": 40,
      "outputs": [
        {
          "output_type": "execute_result",
          "data": {
            "text/plain": [
              "<matplotlib.colorbar.Colorbar at 0x7f97f8430310>"
            ]
          },
          "metadata": {},
          "execution_count": 40
        },
        {
          "output_type": "display_data",
          "data": {
            "text/plain": [
              "<Figure size 396x396 with 2 Axes>"
            ],
            "image/png": "[encoded data removed]"
          },
          "metadata": {}
        }
      ]
    },
    {
      "cell_type": "code",
      "source": [
        "df1.corr()"
      ],
      "metadata": {
        "colab": {
          "base_uri": "https://localhost:8080/",
          "height": 363
        },
        "id": "AzvtEeub_wKA",
        "outputId": "7b43b691-ea12-4478-f8fd-3b46e4900121"
      },
      "execution_count": 41,
      "outputs": [
        {
          "output_type": "execute_result",
          "data": {
            "text/plain": [
              "                  Monto_Total  Monto_total_Neto    Status  Año_Documento  \\\n",
              "Monto_Total          1.000000          0.892736  0.072770       0.023763   \n",
              "Monto_total_Neto     0.892736          1.000000  0.117349       0.060228   \n",
              "Status               0.072770          0.117349  1.000000      -0.246833   \n",
              "Año_Documento        0.023763          0.060228 -0.246833       1.000000   \n",
              "Motivo_general       0.050861          0.117797  0.525183       0.183584   \n",
              "Sub-Motivo           0.029988          0.030642  0.348048      -0.208354   \n",
              "Monto_al_P&L         0.799481          0.816876  0.014868       0.021934   \n",
              "Mes                  0.060509          0.090148 -0.032330       0.258455   \n",
              "Año                       NaN               NaN       NaN            NaN   \n",
              "Semana               0.071031          0.103364 -0.002282       0.226898   \n",
              "\n",
              "                  Motivo_general  Sub-Motivo  Monto_al_P&L       Mes  Año  \\\n",
              "Monto_Total             0.050861    0.029988      0.799481  0.060509  NaN   \n",
              "Monto_total_Neto        0.117797    0.030642      0.816876  0.090148  NaN   \n",
              "Status                  0.525183    0.348048      0.014868 -0.032330  NaN   \n",
              "Año_Documento           0.183584   -0.208354      0.021934  0.258455  NaN   \n",
              "Motivo_general          1.000000    0.189071     -0.016406 -0.005594  NaN   \n",
              "Sub-Motivo              0.189071    1.000000      0.006190 -0.022112  NaN   \n",
              "Monto_al_P&L           -0.016406    0.006190      1.000000  0.049117  NaN   \n",
              "Mes                    -0.005594   -0.022112      0.049117  1.000000  NaN   \n",
              "Año                          NaN         NaN           NaN       NaN  NaN   \n",
              "Semana                 -0.013497   -0.005866      0.063979  0.980853  NaN   \n",
              "\n",
              "                    Semana  \n",
              "Monto_Total       0.071031  \n",
              "Monto_total_Neto  0.103364  \n",
              "Status           -0.002282  \n",
              "Año_Documento     0.226898  \n",
              "Motivo_general   -0.013497  \n",
              "Sub-Motivo       -0.005866  \n",
              "Monto_al_P&L      0.063979  \n",
              "Mes               0.980853  \n",
              "Año                    NaN  \n",
              "Semana            1.000000  "
            ],
            "text/html": [
              "\n",
              "  <div id=\"df-f671db0e-615c-4e51-bb13-3c3a45d57ebd\">\n",
              "    <div class=\"colab-df-container\">\n",
              "      <div>\n",
              "<style scoped>\n",
              "    .dataframe tbody tr th:only-of-type {\n",
              "        vertical-align: middle;\n",
              "    }\n",
              "\n",
              "    .dataframe tbody tr th {\n",
              "        vertical-align: top;\n",
              "    }\n",
              "\n",
              "    .dataframe thead th {\n",
              "        text-align: right;\n",
              "    }\n",
              "</style>\n",
              "<table border=\"1\" class=\"dataframe\">\n",
              "  <thead>\n",
              "    <tr style=\"text-align: right;\">\n",
              "      <th></th>\n",
              "      <th>Monto_Total</th>\n",
              "      <th>Monto_total_Neto</th>\n",
              "      <th>Status</th>\n",
              "      <th>Año_Documento</th>\n",
              "      <th>Motivo_general</th>\n",
              "      <th>Sub-Motivo</th>\n",
              "      <th>Monto_al_P&amp;L</th>\n",
              "      <th>Mes</th>\n",
              "      <th>Año</th>\n",
              "      <th>Semana</th>\n",
              "    </tr>\n",
              "  </thead>\n",
              "  <tbody>\n",
              "    <tr>\n",
              "      <th>Monto_Total</th>\n",
              "      <td>1.000000</td>\n",
              "      <td>0.892736</td>\n",
              "      <td>0.072770</td>\n",
              "      <td>0.023763</td>\n",
              "      <td>0.050861</td>\n",
              "      <td>0.029988</td>\n",
              "      <td>0.799481</td>\n",
              "      <td>0.060509</td>\n",
              "      <td>NaN</td>\n",
              "      <td>0.071031</td>\n",
              "    </tr>\n",
              "    <tr>\n",
              "      <th>Monto_total_Neto</th>\n",
              "      <td>0.892736</td>\n",
              "      <td>1.000000</td>\n",
              "      <td>0.117349</td>\n",
              "      <td>0.060228</td>\n",
              "      <td>0.117797</td>\n",
              "      <td>0.030642</td>\n",
              "      <td>0.816876</td>\n",
              "      <td>0.090148</td>\n",
              "      <td>NaN</td>\n",
              "      <td>0.103364</td>\n",
              "    </tr>\n",
              "    <tr>\n",
              "      <th>Status</th>\n",
              "      <td>0.072770</td>\n",
              "      <td>0.117349</td>\n",
              "      <td>1.000000</td>\n",
              "      <td>-0.246833</td>\n",
              "      <td>0.525183</td>\n",
              "      <td>0.348048</td>\n",
              "      <td>0.014868</td>\n",
              "      <td>-0.032330</td>\n",
              "      <td>NaN</td>\n",
              "      <td>-0.002282</td>\n",
              "    </tr>\n",
              "    <tr>\n",
              "      <th>Año_Documento</th>\n",
              "      <td>0.023763</td>\n",
              "      <td>0.060228</td>\n",
              "      <td>-0.246833</td>\n",
              "      <td>1.000000</td>\n",
              "      <td>0.183584</td>\n",
              "      <td>-0.208354</td>\n",
              "      <td>0.021934</td>\n",
              "      <td>0.258455</td>\n",
              "      <td>NaN</td>\n",
              "      <td>0.226898</td>\n",
              "    </tr>\n",
              "    <tr>\n",
              "      <th>Motivo_general</th>\n",
              "      <td>0.050861</td>\n",
              "      <td>0.117797</td>\n",
              "      <td>0.525183</td>\n",
              "      <td>0.183584</td>\n",
              "      <td>1.000000</td>\n",
              "      <td>0.189071</td>\n",
              "      <td>-0.016406</td>\n",
              "      <td>-0.005594</td>\n",
              "      <td>NaN</td>\n",
              "      <td>-0.013497</td>\n",
              "    </tr>\n",
              "    <tr>\n",
              "      <th>Sub-Motivo</th>\n",
              "      <td>0.029988</td>\n",
              "      <td>0.030642</td>\n",
              "      <td>0.348048</td>\n",
              "      <td>-0.208354</td>\n",
              "      <td>0.189071</td>\n",
              "      <td>1.000000</td>\n",
              "      <td>0.006190</td>\n",
              "      <td>-0.022112</td>\n",
              "      <td>NaN</td>\n",
              "      <td>-0.005866</td>\n",
              "    </tr>\n",
              "    <tr>\n",
              "      <th>Monto_al_P&amp;L</th>\n",
              "      <td>0.799481</td>\n",
              "      <td>0.816876</td>\n",
              "      <td>0.014868</td>\n",
              "      <td>0.021934</td>\n",
              "      <td>-0.016406</td>\n",
              "      <td>0.006190</td>\n",
              "      <td>1.000000</td>\n",
              "      <td>0.049117</td>\n",
              "      <td>NaN</td>\n",
              "      <td>0.063979</td>\n",
              "    </tr>\n",
              "    <tr>\n",
              "      <th>Mes</th>\n",
              "      <td>0.060509</td>\n",
              "      <td>0.090148</td>\n",
              "      <td>-0.032330</td>\n",
              "      <td>0.258455</td>\n",
              "      <td>-0.005594</td>\n",
              "      <td>-0.022112</td>\n",
              "      <td>0.049117</td>\n",
              "      <td>1.000000</td>\n",
              "      <td>NaN</td>\n",
              "      <td>0.980853</td>\n",
              "    </tr>\n",
              "    <tr>\n",
              "      <th>Año</th>\n",
              "      <td>NaN</td>\n",
              "      <td>NaN</td>\n",
              "      <td>NaN</td>\n",
              "      <td>NaN</td>\n",
              "      <td>NaN</td>\n",
              "      <td>NaN</td>\n",
              "      <td>NaN</td>\n",
              "      <td>NaN</td>\n",
              "      <td>NaN</td>\n",
              "      <td>NaN</td>\n",
              "    </tr>\n",
              "    <tr>\n",
              "      <th>Semana</th>\n",
              "      <td>0.071031</td>\n",
              "      <td>0.103364</td>\n",
              "      <td>-0.002282</td>\n",
              "      <td>0.226898</td>\n",
              "      <td>-0.013497</td>\n",
              "      <td>-0.005866</td>\n",
              "      <td>0.063979</td>\n",
              "      <td>0.980853</td>\n",
              "      <td>NaN</td>\n",
              "      <td>1.000000</td>\n",
              "    </tr>\n",
              "  </tbody>\n",
              "</table>\n",
              "</div>\n",
              "      <button class=\"colab-df-convert\" onclick=\"convertToInteractive('df-f671db0e-615c-4e51-bb13-3c3a45d57ebd')\"\n",
              "              title=\"Convert this dataframe to an interactive table.\"\n",
              "              style=\"display:none;\">\n",
              "        \n",
              "  <svg xmlns=\"http://www.w3.org/2000/svg\" height=\"24px\"viewBox=\"0 0 24 24\"\n",
              "       width=\"24px\">\n",
              "    <path d=\"M0 0h24v24H0V0z\" fill=\"none\"/>\n",
              "    <path d=\"M18.56 5.44l.94 2.06.94-2.06 2.06-.94-2.06-.94-.94-2.06-.94 2.06-2.06.94zm-11 1L8.5 8.5l.94-2.06 2.06-.94-2.06-.94L8.5 2.5l-.94 2.06-2.06.94zm10 10l.94 2.06.94-2.06 2.06-.94-2.06-.94-.94-2.06-.94 2.06-2.06.94z\"/><path d=\"M17.41 7.96l-1.37-1.37c-.4-.4-.92-.59-1.43-.59-.52 0-1.04.2-1.43.59L10.3 9.45l-7.72 7.72c-.78.78-.78 2.05 0 2.83L4 21.41c.39.39.9.59 1.41.59.51 0 1.02-.2 1.41-.59l7.78-7.78 2.81-2.81c.8-.78.8-2.07 0-2.86zM5.41 20L4 18.59l7.72-7.72 1.47 1.35L5.41 20z\"/>\n",
              "  </svg>\n",
              "      </button>\n",
              "      \n",
              "  <style>\n",
              "    .colab-df-container {\n",
              "      display:flex;\n",
              "      flex-wrap:wrap;\n",
              "      gap: 12px;\n",
              "    }\n",
              "\n",
              "    .colab-df-convert {\n",
              "      background-color: #E8F0FE;\n",
              "      border: none;\n",
              "      border-radius: 50%;\n",
              "      cursor: pointer;\n",
              "      display: none;\n",
              "      fill: #1967D2;\n",
              "      height: 32px;\n",
              "      padding: 0 0 0 0;\n",
              "      width: 32px;\n",
              "    }\n",
              "\n",
              "    .colab-df-convert:hover {\n",
              "      background-color: #E2EBFA;\n",
              "      box-shadow: 0px 1px 2px rgba(60, 64, 67, 0.3), 0px 1px 3px 1px rgba(60, 64, 67, 0.15);\n",
              "      fill: #174EA6;\n",
              "    }\n",
              "\n",
              "    [theme=dark] .colab-df-convert {\n",
              "      background-color: #3B4455;\n",
              "      fill: #D2E3FC;\n",
              "    }\n",
              "\n",
              "    [theme=dark] .colab-df-convert:hover {\n",
              "      background-color: #434B5C;\n",
              "      box-shadow: 0px 1px 3px 1px rgba(0, 0, 0, 0.15);\n",
              "      filter: drop-shadow(0px 1px 2px rgba(0, 0, 0, 0.3));\n",
              "      fill: #FFFFFF;\n",
              "    }\n",
              "  </style>\n",
              "\n",
              "      <script>\n",
              "        const buttonEl =\n",
              "          document.querySelector('#df-f671db0e-615c-4e51-bb13-3c3a45d57ebd button.colab-df-convert');\n",
              "        buttonEl.style.display =\n",
              "          google.colab.kernel.accessAllowed ? 'block' : 'none';\n",
              "\n",
              "        async function convertToInteractive(key) {\n",
              "          const element = document.querySelector('#df-f671db0e-615c-4e51-bb13-3c3a45d57ebd');\n",
              "          const dataTable =\n",
              "            await google.colab.kernel.invokeFunction('convertToInteractive',\n",
              "                                                     [key], {});\n",
              "          if (!dataTable) return;\n",
              "\n",
              "          const docLinkHtml = 'Like what you see? Visit the ' +\n",
              "            '<a target=\"_blank\" href=https://colab.research.google.com/notebooks/data_table.ipynb>data table notebook</a>'\n",
              "            + ' to learn more about interactive tables.';\n",
              "          element.innerHTML = '';\n",
              "          dataTable['output_type'] = 'display_data';\n",
              "          await google.colab.output.renderOutput(dataTable, element);\n",
              "          const docLink = document.createElement('div');\n",
              "          docLink.innerHTML = docLinkHtml;\n",
              "          element.appendChild(docLink);\n",
              "        }\n",
              "      </script>\n",
              "    </div>\n",
              "  </div>\n",
              "  "
            ]
          },
          "metadata": {},
          "execution_count": 41
        }
      ]
    },
    {
      "cell_type": "markdown",
      "source": [
        "Al mirar los numeros en la tabla de correlaciones, no  se representan en el grafico o mapa de calor, con esto puedo considerar tomar como variables dependientes aquellas que tengan un valor de correlación con la variable independiente (Monto_al_P&L) por sobre 0.20 o -0.20..."
      ],
      "metadata": {
        "id": "iUNvXOKfAx8R"
      }
    },
    {
      "cell_type": "markdown",
      "source": [
        "#Modelos de regresión y benchmarking"
      ],
      "metadata": {
        "id": "pnfcmHrrCbwO"
      }
    },
    {
      "cell_type": "markdown",
      "source": [
        "##Preprosesamiento de datos"
      ],
      "metadata": {
        "id": "roqkXupbCmLS"
      }
    },
    {
      "cell_type": "code",
      "source": [
        "#Definir variables dependiente e independiente.\n",
        "\n",
        "X0 = df1[['Monto_total_Neto','Status', 'Año_Documento', 'Motivo_general', 'Sub-Motivo', 'Mes', 'Semana']].values\n",
        "y0 = df1['Monto_al_P&L'].values"
      ],
      "metadata": {
        "id": "bFilKaJDBIGL"
      },
      "execution_count": 42,
      "outputs": []
    },
    {
      "cell_type": "code",
      "source": [
        "#división de datos de entrenamiento.\n",
        "from sklearn.model_selection import train_test_split\n",
        "X_train, X_test, y_train, y_test = train_test_split(X0, y0, train_size=0.7, random_state=500)"
      ],
      "metadata": {
        "id": "xyQ5kLlWCVvO"
      },
      "execution_count": 43,
      "outputs": []
    },
    {
      "cell_type": "code",
      "source": [
        "X0.shape"
      ],
      "metadata": {
        "colab": {
          "base_uri": "https://localhost:8080/"
        },
        "id": "4ZptXF_yIeSZ",
        "outputId": "5e87a528-d29d-43c3-be35-e0b9ada230cd"
      },
      "execution_count": 44,
      "outputs": [
        {
          "output_type": "execute_result",
          "data": {
            "text/plain": [
              "(6977, 7)"
            ]
          },
          "metadata": {},
          "execution_count": 44
        }
      ]
    },
    {
      "cell_type": "code",
      "source": [
        "#estandarización de datos.\n",
        "\n",
        "from sklearn.preprocessing import StandardScaler\n",
        "scaler = StandardScaler()\n",
        "scaler.fit(X_train)\n",
        "X_train = scaler.transform(X_train)\n",
        "X_test = scaler.transform(X_test)"
      ],
      "metadata": {
        "id": "3mUnJ_4aDE4u"
      },
      "execution_count": 45,
      "outputs": []
    },
    {
      "cell_type": "markdown",
      "source": [
        "##KNN"
      ],
      "metadata": {
        "id": "Hb74yWgIDPyV"
      }
    },
    {
      "cell_type": "code",
      "source": [
        "from sklearn.neighbors import KNeighborsRegressor\n",
        "#Crea instancia.\n",
        "n_neighbors = 6\n",
        "knn = KNeighborsRegressor(n_neighbors)\n",
        "knn.fit(X_train, y_train)\n",
        "y_predict = knn.predict(X_train)\n",
        "y_predict"
      ],
      "metadata": {
        "colab": {
          "base_uri": "https://localhost:8080/"
        },
        "id": "TLPbPdusDLjj",
        "outputId": "6dfd89d3-498e-4d46-e54e-209d52ca04ec"
      },
      "execution_count": 46,
      "outputs": [
        {
          "output_type": "execute_result",
          "data": {
            "text/plain": [
              "array([  49909.52380952,   61554.33333333, 7263104.77731093, ...,\n",
              "         47948.7394958 ,   12766.10644258,  353858.1232493 ])"
            ]
          },
          "metadata": {},
          "execution_count": 46
        }
      ]
    },
    {
      "cell_type": "code",
      "source": [
        "from sklearn.metrics import r2_score\n",
        "print('el R cuadrado de este modelo es ',r2_score(y_train, y_predict))\n"
      ],
      "metadata": {
        "colab": {
          "base_uri": "https://localhost:8080/"
        },
        "id": "0FE5KR20IDUZ",
        "outputId": "9482a907-1e28-430a-c4ef-09ee4d466683"
      },
      "execution_count": 54,
      "outputs": [
        {
          "output_type": "stream",
          "name": "stdout",
          "text": [
            "el R cuadrado de este modelo es  0.6863712242513591\n"
          ]
        }
      ]
    },
    {
      "cell_type": "markdown",
      "source": [
        "El modelo se optimiza con 6 vecinos. entregando un accuracy de 0.75 con el set de testeo."
      ],
      "metadata": {
        "id": "ennOxqi_M5J9"
      }
    },
    {
      "cell_type": "markdown",
      "source": [
        "##Regresión lineal"
      ],
      "metadata": {
        "id": "d7L86157KIOy"
      }
    },
    {
      "cell_type": "code",
      "source": [
        "#Importamos el el modelo de regresión lineal de scikin learn\n",
        "from sklearn.linear_model import LinearRegression"
      ],
      "metadata": {
        "id": "QWTnc0jqJ7dL"
      },
      "execution_count": 49,
      "outputs": []
    },
    {
      "cell_type": "code",
      "source": [
        "#Crear una instancia del modelo\n",
        "reg = LinearRegression(fit_intercept=True)"
      ],
      "metadata": {
        "id": "rtm11h9rKvjL"
      },
      "execution_count": 50,
      "outputs": []
    },
    {
      "cell_type": "code",
      "source": [
        "#Entrenar el modelo en los datos, almacenando la información aprendida.\n",
        "reg.fit(X_train,y_train)\n",
        "#Predecir\n",
        "y_predict = reg.predict(X_train)\n"
      ],
      "metadata": {
        "id": "rqLaVYAcK5NO"
      },
      "execution_count": 51,
      "outputs": []
    },
    {
      "cell_type": "code",
      "source": [
        "\n",
        "print('El R cuadrado del modelo de regresion lineal es ',r2_score(y_train, y_predict))"
      ],
      "metadata": {
        "colab": {
          "base_uri": "https://localhost:8080/"
        },
        "id": "pTz4L1KnK_ju",
        "outputId": "6ca9a1e6-dd9e-4013-b6f8-f090922ae5a9"
      },
      "execution_count": 53,
      "outputs": [
        {
          "output_type": "stream",
          "name": "stdout",
          "text": [
            "El R cuadrado del modelo de regresion lineal es  0.6863712242513591\n"
          ]
        }
      ]
    },
    {
      "cell_type": "markdown",
      "source": [
        "En general el modelo es bueno dado su R cuadrado de 0.68."
      ],
      "metadata": {
        "id": "mQVR-zB-NAHp"
      }
    },
    {
      "cell_type": "markdown",
      "source": [
        "#Conclusiones"
      ],
      "metadata": {
        "id": "3Y1FenI8UrlH"
      }
    },
    {
      "cell_type": "markdown",
      "source": [
        "El modelo KNN para este set de datos y la regresión lineal es mejor puesto que la metrica de valdiación R2 nos entrega un valor más alto de un 0.83 versus un 0.68 que muestra el otro modelo."
      ],
      "metadata": {
        "id": "-JW6UUxlUtIx"
      }
    }
  ]
}