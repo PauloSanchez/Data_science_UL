{
  "nbformat": 4,
  "nbformat_minor": 0,
  "metadata": {
    "colab": {
      "name": "Proyecto 1 parte 2 - Paulo.ipynb",
      "provenance": [],
      "collapsed_sections": [],
      "mount_file_id": "1a9nF0hzAXHzZuD7cE3hS-kAbSB5KF8nZ",
      "authorship_tag": "ABX9TyOj3dHTFeeVnYbQooPV3wTy",
      "include_colab_link": true
    },
    "kernelspec": {
      "name": "python3",
      "display_name": "Python 3"
    },
    "language_info": {
      "name": "python"
    }
  },
  "cells": [
    {
      "cell_type": "markdown",
      "metadata": {
        "id": "view-in-github",
        "colab_type": "text"
      },
      "source": [
        "<a href=\"https://colab.research.google.com/github/PauloSanchez/Data_science_UL/blob/main/Proyecto_1_parte_2_Paulo.ipynb\" target=\"_parent\"><img src=\"https://colab.research.google.com/assets/colab-badge.svg\" alt=\"Open In Colab\"/></a>"
      ]
    },
    {
      "cell_type": "code",
      "execution_count": null,
      "metadata": {
        "id": "JEly-3x6q7tS"
      },
      "outputs": [],
      "source": [
        "import pandas as pd\n",
        "df=pd.read_csv('/content/drive/MyDrive/Colab Notebooks/sales_predictions.csv')\n",
        "df.head()\n"
      ]
    },
    {
      "cell_type": "code",
      "source": [
        "#Analisis exploratorio para saber si hay datos Nan y los tipos de datos que tenemos en cada columna.\n",
        "df.info()\n",
        "#Como se observa la columna item weight tiene NaN, por lo que debemos revisar cuale y cuantos son y de que manera procedemos a completar o eliminar de la data."
      ],
      "metadata": {
        "id": "giweKUjArwbV"
      },
      "execution_count": null,
      "outputs": []
    },
    {
      "cell_type": "code",
      "source": [
        "#Definiremos aquellos que son nulos y los que no, para ver que correlación hay con otras columnas del DF.\n",
        "nulos=df[df.Outlet_Size.isnull()]\n",
        "nulos\n",
        "\n",
        "\n"
      ],
      "metadata": {
        "id": "yn_Rft3TruBi"
      },
      "execution_count": null,
      "outputs": []
    },
    {
      "cell_type": "code",
      "source": [
        "nulos.groupby(['Outlet_Identifier'])[['Outlet_Size']].count()\n",
        "#Se observan que solo tres sucursales no tienen el dato."
      ],
      "metadata": {
        "id": "Ceb0iKp7qr_D"
      },
      "execution_count": null,
      "outputs": []
    },
    {
      "cell_type": "code",
      "source": [
        "#Identificar los que no son nulos, filtrando\n",
        "nonulos=df[df.Outlet_Size.notnull()]\n",
        "nonulos\n"
      ],
      "metadata": {
        "id": "n7pPxNrnp5TI"
      },
      "execution_count": null,
      "outputs": []
    },
    {
      "cell_type": "code",
      "source": [
        "nonulos.groupby(['Outlet_Size','Outlet_Identifier'])[['Outlet_Size']].count()"
      ],
      "metadata": {
        "id": "357HmRn2qA9D"
      },
      "execution_count": null,
      "outputs": []
    },
    {
      "cell_type": "markdown",
      "source": [
        "#La columna Outlet_Size, tiene NaN pero es por que hay tres sucursales de outlet cuyo Outlet_Identifier, no reportan en ninguna fila un valor para la columna mencionada inicialmente, por lo que se determina dejar en blanco y no utilizar el tamaño sino, más bien el identificador de la sucursal."
      ],
      "metadata": {
        "id": "jMxBEal4rhFs"
      }
    },
    {
      "cell_type": "code",
      "source": [
        "#Se procede a explorar la columna de numeros enteros denominada \"Item_Weight\", para determinar que se hará con los datos.\n",
        "\n",
        "weightnull=df[df.Item_Weight.isnull()]\n",
        "weightnull"
      ],
      "metadata": {
        "id": "EDiZPsjur4P-"
      },
      "execution_count": null,
      "outputs": []
    },
    {
      "cell_type": "code",
      "source": [
        "#Se procede a explorar la columna de numeros enteros denominada \"Item_Weight\", para determinar que se hará con los datos.\n",
        "\n",
        "weightnotnull=df[df.Item_Weight.notnull()]\n",
        "weightnotnull.head()\n"
      ],
      "metadata": {
        "id": "97ytYKNIuSat"
      },
      "execution_count": null,
      "outputs": []
    },
    {
      "cell_type": "code",
      "source": [
        "filtroitem=df['Item_Identifier']=='DRI11'\n",
        "filtroitem\n",
        "df1=df.loc[filtroitem, :]\n",
        "df1"
      ],
      "metadata": {
        "id": "kxfmj6d9vY_y"
      },
      "execution_count": null,
      "outputs": []
    },
    {
      "cell_type": "markdown",
      "source": [
        "#Se aprecia que al filtrar un Item_identifier, el peso del item es el mismo dado que el identifier es el codigo del producto y el peso obviamente es el mismo, por lo que con el promedio de estos excluyendo los nulos podré obtener el valor a reemplazar."
      ],
      "metadata": {
        "id": "7l6e5RKAwYyA"
      }
    },
    {
      "cell_type": "code",
      "source": [
        "weightnotnull.groupby(['Item_Identifier'])[['Item_Weight']].mean()\n"
      ],
      "metadata": {
        "id": "sa5CgBGUueac"
      },
      "execution_count": null,
      "outputs": []
    },
    {
      "cell_type": "code",
      "source": [
        "df11=df"
      ],
      "metadata": {
        "id": "LIlFY8xaWBNZ"
      },
      "execution_count": 246,
      "outputs": []
    },
    {
      "cell_type": "code",
      "source": [
        "#Función para rellenar NaN con un groupby en pandas\n",
        "\n",
        "def rellenar_nan(x):\n",
        "  ids = set(x.dropna())\n",
        "  if not ids:\n",
        "    # Conjunto vacío, nada que hacer\n",
        "    print(x.name, \"era todo NaN\")\n",
        "    return x\n",
        "  if len(ids)>1:\n",
        "    # Posible problema si además contiene Nan\n",
        "    if sum(x.isnull()) > 0:\n",
        "      print(\"Cuidado!\", x.name, \"tiene varias posibilidades\", ids)\n",
        "  # Extraemos uno de los elementos del conjunto y lo usamos para rellenar  \n",
        "  id = ids.pop()\n",
        "  return x.fillna(id)"
      ],
      "metadata": {
        "id": "MIJ_vCOaXsq2"
      },
      "execution_count": 247,
      "outputs": []
    },
    {
      "cell_type": "code",
      "source": [
        "df11.loc[:, \"Item_Weight\"] = \\\n",
        "   df11.groupby(\"Item_Identifier\")[\"Item_Weight\"].apply(rellenar_nan)"
      ],
      "metadata": {
        "id": "DnmUwTRAXzE9"
      },
      "execution_count": null,
      "outputs": []
    },
    {
      "cell_type": "code",
      "source": [
        "df11.loc[:, \"Outlet_Size\"] = \\\n",
        "   df11.groupby(\"Outlet_Identifier\")[\"Outlet_Size\"].apply(rellenar_nan)"
      ],
      "metadata": {
        "id": "Itx5PkSse5Sf"
      },
      "execution_count": null,
      "outputs": []
    },
    {
      "cell_type": "code",
      "source": [
        "df11.info()"
      ],
      "metadata": {
        "id": "H3n84oavYcUV"
      },
      "execution_count": null,
      "outputs": []
    },
    {
      "cell_type": "code",
      "source": [
        "#Porcentajes de NaN restantes en Item_Weight\n",
        "import numpy as np\n",
        "Completo=df11['Item_Identifier'].count()\n",
        "\n",
        "NaN=df11['Item_Weight'].isnull().sum(axis=0) # Cuenta los datos NaN en la columna.\n",
        "\n",
        "#Entonces el porcentaje es:\n",
        "\n",
        "Percent=NaN/Completo\n",
        "p=Percent*100\n",
        "print('El total de NaN dentro del DataFrame representa el',p,'%')\n"
      ],
      "metadata": {
        "colab": {
          "base_uri": "https://localhost:8080/"
        },
        "id": "ZkaZroZUZHGC",
        "outputId": "f83a21fe-29c1-436b-9809-457d66d0659e"
      },
      "execution_count": 251,
      "outputs": [
        {
          "output_type": "stream",
          "name": "stdout",
          "text": [
            "El total de NaN dentro del DataFrame representa el 0.04693183151472486 %\n"
          ]
        }
      ]
    },
    {
      "cell_type": "markdown",
      "source": [
        "Se observa que no se pueden eliminar todos los nulos puesto que hay 4 filas que no se rellenan, dado que todo era NaN, por lo que al mirar que los NaN solo representan el 0.05% aprox, se define eliminar de la data esas filas, pues no hay como rellenarlas. Por ultimo debemos hacer lo mismo para la columna Outlet_Size."
      ],
      "metadata": {
        "id": "ff4fk-t7Y3Rk"
      }
    },
    {
      "cell_type": "code",
      "source": [
        "#Porcentajes de NaN restantes en Outlet_Size\n",
        "import numpy as np\n",
        "Completo1=df11['Item_Identifier'].count()\n",
        "\n",
        "NaN1=df11['Outlet_Size'].isnull().sum(axis=0) # Cuenta los datos NaN en la columna.\n",
        "\n",
        "#Entonces el porcentaje es:\n",
        "\n",
        "Percent1=NaN1/Completo1\n",
        "p1=Percent1*100\n",
        "print('El total de NaN dentro del DataFrame representa el',p1,'%')"
      ],
      "metadata": {
        "colab": {
          "base_uri": "https://localhost:8080/"
        },
        "id": "2yOgLp9TfX5R",
        "outputId": "4599a545-2223-47db-eb3b-85f2d8b7e953"
      },
      "execution_count": 252,
      "outputs": [
        {
          "output_type": "stream",
          "name": "stdout",
          "text": [
            "El total de NaN dentro del DataFrame representa el 28.27642848762173 %\n"
          ]
        }
      ]
    },
    {
      "cell_type": "code",
      "source": [
        "#Rellenar una columna con NaN al valor 'No definido'\n",
        "\n",
        "values = {\"Outlet_Size\": 'No definido'} #Se debe crear un diccionario para reemplazar en la columna\n",
        "df11=df11.fillna(value=values)\n",
        "df11.info()"
      ],
      "metadata": {
        "id": "kGBvLmY8j0qA"
      },
      "execution_count": null,
      "outputs": []
    },
    {
      "cell_type": "markdown",
      "source": [
        "Se relleno todos los tamaños de outlet por la frase 'No definido' dado que no tenemos otros Outlet_Identifier de donde obtener la data y la cantidad de filas supera el 10% del total."
      ],
      "metadata": {
        "id": "KhVxcN4TmZ6w"
      }
    },
    {
      "cell_type": "code",
      "source": [
        "#Eliminar las 4 filas restantes con NaN\n",
        "\n",
        "df11=df11.dropna()\n",
        "df11.info()"
      ],
      "metadata": {
        "id": "ofDU9iHxnJrL"
      },
      "execution_count": null,
      "outputs": []
    },
    {
      "cell_type": "markdown",
      "source": [
        "Con esto se termina de limpiar y ordenar la base de datos!! fueron 9 horas de trabajo!!! jajaja "
      ],
      "metadata": {
        "id": "VteVqlApnTAM"
      }
    },
    {
      "cell_type": "code",
      "source": [
        ""
      ],
      "metadata": {
        "id": "0LJxD8FPnmfO"
      },
      "execution_count": null,
      "outputs": []
    }
  ]
}